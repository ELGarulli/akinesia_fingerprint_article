{
 "cells": [
  {
   "cell_type": "code",
   "execution_count": 13,
   "id": "065089e5-3ae6-49af-8363-07fa4e8f2d83",
   "metadata": {},
   "outputs": [],
   "source": [
    "import pandas as pd\n",
    "from matplotlib import pyplot as plt\n",
    "import seaborn as sns\n",
    "from scipy.stats import ttest_rel"
   ]
  },
  {
   "cell_type": "code",
   "execution_count": 2,
   "id": "3af51be9-c0d0-400c-a515-f1414ad35089",
   "metadata": {},
   "outputs": [],
   "source": [
    "th = pd.read_csv(\"./th_quantification.csv\", sep=\";\", usecols=['Animal', 'Sample', 'ROI', 'Area', 'Mean', 'Min', 'Max', 'Notes'])"
   ]
  },
  {
   "cell_type": "code",
   "execution_count": 3,
   "id": "25cf4670-0dba-40d8-82b9-796dfe67fd4b",
   "metadata": {},
   "outputs": [],
   "source": [
    "pda = [\"NWE00130\", \"NWE00160\", \"NWE00161\", \"NWE00163\", \"NWE00162\", \"NWE00164\"]\n",
    "h = [\"NWE00131\", \"NWE00166\", \"NWE00197\"]"
   ]
  },
  {
   "cell_type": "code",
   "execution_count": 4,
   "id": "7ebd08a7-2b92-43ef-8052-7bd499adea70",
   "metadata": {},
   "outputs": [],
   "source": [
    "ROI = [1, 2, 3]"
   ]
  },
  {
   "cell_type": "code",
   "execution_count": 5,
   "id": "2752e6c2-dac5-4b69-8816-bab41646eeb9",
   "metadata": {},
   "outputs": [],
   "source": [
    "def str2float(a):\n",
    "    if type(a)==str:\n",
    "        a = a.replace(\",\", \".\")\n",
    "    return float(a)"
   ]
  },
  {
   "cell_type": "code",
   "execution_count": 6,
   "id": "0841c2fa-c77d-40f5-a698-354475a6327e",
   "metadata": {},
   "outputs": [],
   "source": [
    "th[\"Mean\"] = th[\"Mean\"].apply(str2float)\n",
    "th = th[th[\"Animal\"].isin(pda)]\n",
    "th = th[th[\"ROI\"].isin(ROI)]"
   ]
  },
  {
   "cell_type": "code",
   "execution_count": 7,
   "id": "d27f7dac-ade6-461b-90dd-39eb7bd1ea6b",
   "metadata": {},
   "outputs": [],
   "source": [
    "th_animal = th.query(\"ROI != 3.0\")\n",
    "th_animal = th_animal[[\"Animal\", \"Mean\", \"ROI\"]].groupby([\"Animal\", \"ROI\"]).mean()\n",
    "th_animal.sort_values(inplace=True, by=\"ROI\", ascending=False)\n",
    "th_animal.reset_index(level=[\"ROI\"], inplace=True)\n",
    "th_animal[\"ROI\"] = th_animal[\"ROI\"].apply(lambda x: x-1)"
   ]
  },
  {
   "cell_type": "code",
   "execution_count": 8,
   "id": "9bc6b175-58ad-4f76-8b4f-473a8262b166",
   "metadata": {},
   "outputs": [
    {
     "name": "stderr",
     "output_type": "stream",
     "text": [
      "/tmp/ipykernel_3603116/2814432165.py:2: FutureWarning: \n",
      "\n",
      "Passing `palette` without assigning `hue` is deprecated and will be removed in v0.14.0. Assign the `x` variable to `hue` and set `legend=False` for the same effect.\n",
      "\n",
      "  sns.boxplot(data=th_animal, y=\"Mean\", x=\"ROI\", palette=[\"#1CA152\", \"k\"], ax=ax, legend=False)\n"
     ]
    },
    {
     "data": {
      "image/png": "[encoded data removed]",
      "text/plain": [
       "<Figure size 400x400 with 1 Axes>"
      ]
     },
     "metadata": {},
     "output_type": "display_data"
    }
   ],
   "source": [
    "fig, ax = plt.subplots(figsize=(4,4))\n",
    "sns.boxplot(data=th_animal, y=\"Mean\", x=\"ROI\", palette=[\"#1CA152\", \"k\"], ax=ax, legend=False)\n",
    "sns.scatterplot(data=th_animal, x=\"ROI\", y=\"Mean\", color=\"#222222\", ax=ax, zorder=10, s=80)\n",
    "ax.set_xticks([0, 1], labels=[])\n",
    "ax.set_yticks(ax.get_yticks()[::3], labels=[])\n",
    "ax.xaxis.set_inverted(True) \n",
    "#ax.set_xlabel(\"Event Type\")\n",
    "#ax.set_ylabel(\"Beta Band Value\")\n",
    "ax.set_ylabel(\"\")\n",
    "ax.set_xlabel(\"\")\n",
    "ax.spines[['right', 'top']].set_visible(False)\n",
    "ax.spines[[\"left\", \"bottom\"]].set_linewidth(1.5)\n",
    "ax.tick_params(width=1.5)\n",
    "\n",
    "plt.savefig(\"th_staining.svg\", transparent=True)"
   ]
  },
  {
   "cell_type": "code",
   "execution_count": 10,
   "id": "68651020-a0cb-4ec2-a4c9-5184be08cca3",
   "metadata": {},
   "outputs": [
    {
     "data": {
      "text/plain": [
       "ROI\n",
       "0.0    30.415750\n",
       "1.0     4.782933\n",
       "Name: Mean, dtype: float64"
      ]
     },
     "execution_count": 10,
     "metadata": {},
     "output_type": "execute_result"
    }
   ],
   "source": [
    "th_animal.groupby(\"ROI\")[\"Mean\"].mean()"
   ]
  },
  {
   "cell_type": "code",
   "execution_count": 11,
   "id": "9671d90c-92b2-45d9-bf99-12d79b859f94",
   "metadata": {},
   "outputs": [
    {
     "data": {
      "text/plain": [
       "ROI\n",
       "0.0    4.222887\n",
       "1.0    0.512047\n",
       "Name: Mean, dtype: float64"
      ]
     },
     "execution_count": 11,
     "metadata": {},
     "output_type": "execute_result"
    }
   ],
   "source": [
    "th_animal.groupby(\"ROI\")[\"Mean\"].std()"
   ]
  },
  {
   "cell_type": "code",
   "execution_count": 19,
   "id": "2ae704fe-6082-4c9a-b241-6dcff5048e2a",
   "metadata": {},
   "outputs": [
    {
     "data": {
      "text/plain": [
       "TtestResult(statistic=14.535739007315282, pvalue=2.7819151959730304e-05, df=5)"
      ]
     },
     "execution_count": 19,
     "metadata": {},
     "output_type": "execute_result"
    }
   ],
   "source": [
    "ttest_rel(th_animal[\"Mean\"][th_animal[\"ROI\"]==0.0], th_animal[\"Mean\"][th_animal[\"ROI\"]==1.0])"
   ]
  },
  {
   "cell_type": "code",
   "execution_count": 18,
   "id": "9ada86d3-97c8-4719-baad-0273f9c5cba6",
   "metadata": {},
   "outputs": [
    {
     "data": {
      "text/html": [
       "<div>\n",
       "<style scoped>\n",
       "    .dataframe tbody tr th:only-of-type {\n",
       "        vertical-align: middle;\n",
       "    }\n",
       "\n",
       "    .dataframe tbody tr th {\n",
       "        vertical-align: top;\n",
       "    }\n",
       "\n",
       "    .dataframe thead th {\n",
       "        text-align: right;\n",
       "    }\n",
       "</style>\n",
       "<table border=\"1\" class=\"dataframe\">\n",
       "  <thead>\n",
       "    <tr style=\"text-align: right;\">\n",
       "      <th></th>\n",
       "      <th>ROI</th>\n",
       "      <th>Mean</th>\n",
       "    </tr>\n",
       "    <tr>\n",
       "      <th>Animal</th>\n",
       "      <th></th>\n",
       "      <th></th>\n",
       "    </tr>\n",
       "  </thead>\n",
       "  <tbody>\n",
       "    <tr>\n",
       "      <th>NWE00130</th>\n",
       "      <td>1.0</td>\n",
       "      <td>5.371500</td>\n",
       "    </tr>\n",
       "    <tr>\n",
       "      <th>NWE00160</th>\n",
       "      <td>1.0</td>\n",
       "      <td>4.696600</td>\n",
       "    </tr>\n",
       "    <tr>\n",
       "      <th>NWE00161</th>\n",
       "      <td>1.0</td>\n",
       "      <td>4.222833</td>\n",
       "    </tr>\n",
       "    <tr>\n",
       "      <th>NWE00162</th>\n",
       "      <td>1.0</td>\n",
       "      <td>4.690833</td>\n",
       "    </tr>\n",
       "    <tr>\n",
       "      <th>NWE00163</th>\n",
       "      <td>1.0</td>\n",
       "      <td>4.299500</td>\n",
       "    </tr>\n",
       "    <tr>\n",
       "      <th>NWE00164</th>\n",
       "      <td>1.0</td>\n",
       "      <td>5.416333</td>\n",
       "    </tr>\n",
       "    <tr>\n",
       "      <th>NWE00130</th>\n",
       "      <td>0.0</td>\n",
       "      <td>30.522833</td>\n",
       "    </tr>\n",
       "    <tr>\n",
       "      <th>NWE00160</th>\n",
       "      <td>0.0</td>\n",
       "      <td>28.957000</td>\n",
       "    </tr>\n",
       "    <tr>\n",
       "      <th>NWE00161</th>\n",
       "      <td>0.0</td>\n",
       "      <td>27.820167</td>\n",
       "    </tr>\n",
       "    <tr>\n",
       "      <th>NWE00162</th>\n",
       "      <td>0.0</td>\n",
       "      <td>26.048333</td>\n",
       "    </tr>\n",
       "    <tr>\n",
       "      <th>NWE00163</th>\n",
       "      <td>0.0</td>\n",
       "      <td>38.223167</td>\n",
       "    </tr>\n",
       "    <tr>\n",
       "      <th>NWE00164</th>\n",
       "      <td>0.0</td>\n",
       "      <td>30.923000</td>\n",
       "    </tr>\n",
       "  </tbody>\n",
       "</table>\n",
       "</div>"
      ],
      "text/plain": [
       "          ROI       Mean\n",
       "Animal                  \n",
       "NWE00130  1.0   5.371500\n",
       "NWE00160  1.0   4.696600\n",
       "NWE00161  1.0   4.222833\n",
       "NWE00162  1.0   4.690833\n",
       "NWE00163  1.0   4.299500\n",
       "NWE00164  1.0   5.416333\n",
       "NWE00130  0.0  30.522833\n",
       "NWE00160  0.0  28.957000\n",
       "NWE00161  0.0  27.820167\n",
       "NWE00162  0.0  26.048333\n",
       "NWE00163  0.0  38.223167\n",
       "NWE00164  0.0  30.923000"
      ]
     },
     "execution_count": 18,
     "metadata": {},
     "output_type": "execute_result"
    }
   ],
   "source": [
    "th_animal"
   ]
  },
  {
   "cell_type": "code",
   "execution_count": null,
   "id": "cad3a086-f3bf-48ea-8a78-27e20d53eac2",
   "metadata": {},
   "outputs": [],
   "source": []
  }
 ],
 "metadata": {
  "kernelspec": {
   "display_name": "Python (myPyEnv)",
   "language": "python",
   "name": "mypyenv"
  },
  "language_info": {
   "codemirror_mode": {
    "name": "ipython",
    "version": 3
   },
   "file_extension": ".py",
   "mimetype": "text/x-python",
   "name": "python",
   "nbconvert_exporter": "python",
   "pygments_lexer": "ipython3",
   "version": "3.12.2"
  }
 },
 "nbformat": 4,
 "nbformat_minor": 5
}
