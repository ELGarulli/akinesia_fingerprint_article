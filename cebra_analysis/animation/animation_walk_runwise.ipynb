{
 "cells": [
  {
   "cell_type": "code",
   "execution_count": 1,
   "id": "118b2aff-815e-4e15-aa6d-7714509fecff",
   "metadata": {
    "tags": []
   },
   "outputs": [],
   "source": [
    "import cebra\n",
    "import c3d\n",
    "from cebra import CEBRA\n",
    "import cebra.models\n",
    "import os\n",
    "from scipy import stats\n",
    "import tempfile\n",
    "from pathlib import Path\n",
    "import torch\n",
    "from torch import nn\n",
    "import pandas as pd\n",
    "import numpy as np\n",
    "from matplotlib import pyplot as plt\n",
    "import matplotlib\n",
    "from matplotlib.colors import rgb2hex\n",
    "import pickle as pkl\n",
    "from sklearn.model_selection import train_test_split\n",
    "from sklearn.metrics import ConfusionMatrixDisplay, confusion_matrix\n",
    "import sys\n",
    "sys.path.append('../../../')\n",
    "from dataset_load import data_load\n",
    "from mpl_toolkits.mplot3d import Axes3D\n",
    "from matplotlib.animation import FuncAnimation\n",
    "from PIL import Image \n",
    "from cebra.models.model import _OffsetModel, ConvolutionalModelMixin\n",
    "from matplotlib.colors import ListedColormap"
   ]
  },
  {
   "cell_type": "code",
   "execution_count": 2,
   "id": "0ec3133a-d6a1-4dd6-83b7-dcafa7c90ef6",
   "metadata": {},
   "outputs": [],
   "source": [
    "@cebra.models.register(\"offset200-model\") # --> add that line to register the model!\n",
    "class Offset200Model(_OffsetModel, ConvolutionalModelMixin):\n",
    "\n",
    "    def __init__(self, num_neurons, num_units, num_output, normalize=True):\n",
    "        super().__init__(\n",
    "            \n",
    "            nn.Conv1d(num_neurons, num_units, 101),\n",
    "            nn.GELU(),\n",
    "            nn.Conv1d(num_units, num_units, 21),\n",
    "            nn.GELU(),\n",
    "            nn.Conv1d(num_units, num_units, 21),\n",
    "            nn.GELU(),\n",
    "            nn.Conv1d(num_units, num_units, 21),\n",
    "            nn.GELU(),\n",
    "            nn.Conv1d(num_units, num_units, 21),\n",
    "            nn.GELU(),\n",
    "            nn.Conv1d(num_units, num_output, 20),\n",
    "            num_input=num_neurons,\n",
    "            num_output=num_output,\n",
    "            normalize=normalize,\n",
    "        )\n",
    "\n",
    "    # ... and you can also redefine the forward method,\n",
    "    # as you would for a typical pytorch model\n",
    "\n",
    "    def get_offset(self) -> cebra.data.datatypes.Offset:\n",
    "        return cebra.data.Offset(100, 100)"
   ]
  },
  {
   "cell_type": "code",
   "execution_count": 3,
   "id": "98708f6e-1553-479a-bcc7-1df8b468b990",
   "metadata": {},
   "outputs": [],
   "source": [
    "\n",
    "\n",
    "colors = [\"cyan\", \"#2e2d4d\", \"m\"]\n",
    "colors = [\"cyan\", \"#55538d\", \"m\"]\n",
    "\n",
    "cmap = ListedColormap(colors)"
   ]
  },
  {
   "cell_type": "code",
   "execution_count": 4,
   "id": "ec925202-de10-4790-9d7b-ee07e38bec21",
   "metadata": {},
   "outputs": [
    {
     "data": {
      "image/png": "[encoded data removed]",
      "text/html": [
       "<div style=\"vertical-align: middle;\"><strong>from_list</strong> </div><div class=\"cmap\"><img alt=\"from_list colormap\" title=\"from_list\" style=\"border: 1px solid #555;\" src=\"data:image/png;base64,iVBORw0KGgoAAAANSUhEUgAAAgAAAABACAYAAABsv8+/AAAAGHRFWHRUaXRsZQBmcm9tX2xpc3QgY29sb3JtYXBDL89FAAAAHnRFWHREZXNjcmlwdGlvbgBmcm9tX2xpc3QgY29sb3JtYXABtCnOAAAAMHRFWHRBdXRob3IATWF0cGxvdGxpYiB2My44LjMsIGh0dHBzOi8vbWF0cGxvdGxpYi5vcmeqnk4cAAAAMnRFWHRTb2Z0d2FyZQBNYXRwbG90bGliIHYzLjguMywgaHR0cHM6Ly9tYXRwbG90bGliLm9yZ4Q40TsAAAE7SURBVHic7dZBEYNAAMBAqCS0FBMVgxM0XiXAixsmuwryzLqMMRZ4gf17zE6AS79zm50At3xmBwAAzzMAABBkAAAgyAAAQJABAIAgAwAAQQYAAIIMAAAEGQAACDIAABBkAAAgyAAAQJABAIAgAwAAQQYAAIIMAAAEGQAACDIAABBkAAAgyAAAQJABAIAgAwAAQQYAAIIMAAAEGQAACDIAABBkAAAgyAAAQJABAIAgAwAAQQYAAIIMAAAEGQAACDIAABBkAAAgyAAAQJABAIAgAwAAQQYAAIIMAAAEGQAACDIAABBkAAAgyAAAQJABAIAgAwAAQQYAAIIMAAAEGQAACDIAABBkAAAgyAAAQJABAIAgAwAAQQYAAIIMAAAEGQAACDIAABBkAAAgyAAAQJABAIAgAwAAQQYAAIL+9V0F/eTnU6gAAAAASUVORK5CYII=\"></div><div style=\"vertical-align: middle; max-width: 514px; display: flex; justify-content: space-between;\"><div style=\"float: left;\"><div title=\"#00ffffff\" style=\"display: inline-block; width: 1em; height: 1em; margin: 0; vertical-align: middle; border: 1px solid #555; background-color: #00ffffff;\"></div> under</div><div style=\"margin: 0 auto; display: inline-block;\">bad <div title=\"#00000000\" style=\"display: inline-block; width: 1em; height: 1em; margin: 0; vertical-align: middle; border: 1px solid #555; background-color: #00000000;\"></div></div><div style=\"float: right;\">over <div title=\"#bf00bfff\" style=\"display: inline-block; width: 1em; height: 1em; margin: 0; vertical-align: middle; border: 1px solid #555; background-color: #bf00bfff;\"></div></div>"
      ],
      "text/plain": [
       "<matplotlib.colors.ListedColormap at 0x153cb73dcfb0>"
      ]
     },
     "execution_count": 4,
     "metadata": {},
     "output_type": "execute_result"
    }
   ],
   "source": [
    "cmap"
   ]
  },
  {
   "cell_type": "code",
   "execution_count": 5,
   "id": "d6b0e789-1752-4d3a-b44a-0eec77b5bb4e",
   "metadata": {
    "tags": []
   },
   "outputs": [],
   "source": [
    "skipdates = [\"220818\", \"220819\"]\n",
    "input_folder = \"/sc-projects/sc-proj-cc15-ag-wenger-retune/data_kinematic_states_neural/\"\n",
    "VICON_FS = 200\n",
    "variables_to_drop = [\"ANIMAL_ID\", \"CONDITION\", \"RUN\", \"DATE\", \"EVENT\", \"ECOG_LEFT_fooof_a_knee\", \"ECOG_RIGHT_fooof_a_knee\"]"
   ]
  },
  {
   "cell_type": "code",
   "execution_count": 6,
   "id": "7a930edc-0332-439f-84fc-dca519f9b1c3",
   "metadata": {},
   "outputs": [],
   "source": [
    "def import_c3d(path):\n",
    "    \"\"\"\n",
    "    Fills df from c3d file\n",
    "\n",
    "    :param path: path to .c3d\n",
    "    :return: first_frame, last_frame, sample_rate, df\n",
    "    \"\"\"\n",
    "    with open(path, \"rb\") as f:\n",
    "        c3d_reader = c3d.Reader(f)\n",
    "        first_frame = c3d_reader._header.first_frame\n",
    "        last_frame = c3d_reader._header.last_frame\n",
    "        sample_rate = c3d_reader._header.frame_rate\n",
    "\n",
    "    return first_frame, last_frame, sample_rate"
   ]
  },
  {
   "cell_type": "code",
   "execution_count": 7,
   "id": "75e59282-e852-48c7-9f91-48d6b89191b0",
   "metadata": {},
   "outputs": [],
   "source": [
    "data = import_c3d(f\"{input_folder}230330/NWE00130/12/runway12.c3d\")"
   ]
  },
  {
   "cell_type": "code",
   "execution_count": 8,
   "id": "75226296-a1bb-4cd3-94ac-8f7620113fb5",
   "metadata": {},
   "outputs": [
    {
     "data": {
      "text/plain": [
       "(1921, 14480, 200.0)"
      ]
     },
     "execution_count": 8,
     "metadata": {},
     "output_type": "execute_result"
    }
   ],
   "source": [
    "data"
   ]
  },
  {
   "cell_type": "code",
   "execution_count": null,
   "id": "d0c7c61d-5dc3-4de3-9fc4-8c86b4840b0d",
   "metadata": {},
   "outputs": [],
   "source": []
  },
  {
   "cell_type": "code",
   "execution_count": 9,
   "id": "b04e4f44-3d40-44de-9202-ee5510561bca",
   "metadata": {
    "tags": []
   },
   "outputs": [],
   "source": [
    "def animal_to_number(animal_list):\n",
    "    unique = np.unique(animal_list)\n",
    "    number_dict = dict()\n",
    "    number_list = []\n",
    "    count = 0\n",
    "    for a in unique:\n",
    "        number_dict[a] = count\n",
    "        count+=1\n",
    "    for a in animal_list:\n",
    "        number_list.append(number_dict[a])\n",
    "    return np.asarray(number_list)"
   ]
  },
  {
   "cell_type": "code",
   "execution_count": 10,
   "id": "eb7c8ecb-8a12-41ae-888e-6f6fd7cd05cb",
   "metadata": {
    "tags": []
   },
   "outputs": [
    {
     "name": "stdout",
     "output_type": "stream",
     "text": [
      "No file found for 230425 NWE00161 02\n",
      "No file found for 230425 NWE00161 08\n",
      "No file found for 230425 NWE00160 04\n",
      "No file found for 230425 NWE00160 03\n",
      "No file found for 230425 NWE00164 21\n"
     ]
    }
   ],
   "source": [
    "data_dict = data_load(input_folder, variables_to_drop, skipdates)\n"
   ]
  },
  {
   "cell_type": "code",
   "execution_count": 11,
   "id": "4bdde657-f537-43e7-b8aa-e747a9434526",
   "metadata": {
    "tags": []
   },
   "outputs": [],
   "source": [
    "x_pd = data_dict[\"X_pd\"].reset_index(drop=True)\n",
    "y_pd = data_dict[\"y_pd\"]\n",
    "animals_id_pd = data_dict[\"animals_id_pd\"]\n",
    "run_id_pd = data_dict[\"run_id_pd\"]\n",
    "\n",
    "x_h = data_dict[\"X_h\"].reset_index(drop=True)\n",
    "y_h = data_dict[\"y_h\"]\n",
    "animals_id_h = data_dict[\"animals_id_h\"]\n",
    "\n",
    "train_indices, test_indices = train_test_split(x_pd.index, test_size=0.2, shuffle=True, random_state=42)\n",
    "\n",
    "# Sort the indices to maintain chronological order\n",
    "train_indices_sorted = sorted(train_indices)\n",
    "test_indices_sorted = sorted(test_indices)\n",
    "\n",
    "# Create the train and test sets\n",
    "X_train = x_pd.iloc[train_indices_sorted]\n",
    "X_test = x_pd.iloc[test_indices_sorted]\n",
    "y_train = y_pd[train_indices_sorted]\n",
    "y_test = y_pd[test_indices_sorted]\n",
    "animal_train = animals_id_pd[train_indices_sorted]\n",
    "run_id_train = run_id_pd[train_indices_sorted]"
   ]
  },
  {
   "cell_type": "code",
   "execution_count": 12,
   "id": "7ff6c5e5-ae2e-449b-9fd4-b5d32c63bd38",
   "metadata": {
    "tags": []
   },
   "outputs": [],
   "source": [
    "\n",
    "loaded_cebra_model = cebra.CEBRA.load(\"../full_run/models/neural_full_pd.pt\")"
   ]
  },
  {
   "cell_type": "code",
   "execution_count": 13,
   "id": "aa869898-a1e9-4796-b4f8-6cbe3db44ce6",
   "metadata": {
    "tags": []
   },
   "outputs": [],
   "source": [
    "embedding = loaded_cebra_model.transform(x_pd.iloc[:, 36:])"
   ]
  },
  {
   "cell_type": "code",
   "execution_count": 14,
   "id": "6b6d1d89-5269-49bb-a843-f99be7518ba4",
   "metadata": {},
   "outputs": [],
   "source": [
    "x_df = pd.DataFrame(embedding, columns=[\"emb1\", \"emb2\", \"emb3\"])\n",
    "x_df[\"animal\"] = animals_id_pd\n",
    "x_df[\"run\"] = run_id_pd\n",
    "x_df[\"label\"] = y_pd"
   ]
  },
  {
   "cell_type": "code",
   "execution_count": 15,
   "id": "b86fc911-c11f-4c24-982c-4e43240beb5b",
   "metadata": {},
   "outputs": [],
   "source": [
    "animal = \"NWE00130\"\n",
    "run = \"230330.012.0\"\n",
    "\n",
    "x_run = x_df[(x_df[\"animal\"]==animal) & (x_df[\"run\"]==run)]\n",
    "\n",
    "y_run = x_run[\"label\"]\n",
    "x_run = x_run.drop([\"animal\", \"run\", \"label\"], axis=1)\n",
    "run_embedding = x_run[[\"emb1\", \"emb2\", \"emb3\"]].values\n",
    "#x_run.reset_index(drop=True, inplace=True)"
   ]
  },
  {
   "cell_type": "code",
   "execution_count": 17,
   "id": "f39e0cfe-d895-4263-b578-8488a02ea81b",
   "metadata": {},
   "outputs": [],
   "source": [
    "folder = \"frames_neural_only\""
   ]
  },
  {
   "cell_type": "code",
   "execution_count": 20,
   "id": "e87df3a8-18a3-403a-bba7-94186b236929",
   "metadata": {},
   "outputs": [
    {
     "data": {
      "image/png": "[encoded data removed]",
      "text/plain": [
       "<Figure size 640x480 with 1 Axes>"
      ]
     },
     "metadata": {},
     "output_type": "display_data"
    }
   ],
   "source": [
    "\n",
    "# folde = \"frames_decim\"\n",
    "x = run_embedding[::10, 0]\n",
    "y = run_embedding[::10, 1]\n",
    "z = run_embedding[::10, 2]\n",
    "\n",
    "# Set up the figure and 3D axis with a transparent background\n",
    "fig = plt.figure()\n",
    "fig.patch.set_alpha(0)  # Set figure background to transparent\n",
    "ax = fig.add_subplot(111, projection='3d')\n",
    "ax.set_facecolor((0, 0, 0, 0))  # Set axis background to transparent\n",
    "\n",
    "# Axis limits\n",
    "ax.set_xlim((min(x), max(x)))\n",
    "ax.set_ylim((min(y), max(y)))\n",
    "ax.set_zlim((min(z), max(z)))\n",
    "\n",
    "# Disable grids, tick marks, labels, and pane colors\n",
    "ax.grid(False)  # Turn off grid lines\n",
    "ax.set_xticks([])  # Remove x ticks\n",
    "ax.set_yticks([])  # Remove y ticks\n",
    "ax.set_zticks([])  # Remove z ticks\n",
    "ax.set_xlabel('')   # Remove x label\n",
    "ax.set_ylabel('')   # Remove y label\n",
    "ax.set_zlabel('')   # Remove z label\n",
    "\n",
    "# Remove panes (walls)\n",
    "ax.xaxis.pane.fill = False  # Hide x-axis pane\n",
    "ax.yaxis.pane.fill = False  # Hide y-axis pane\n",
    "ax.zaxis.pane.fill = False  # Hide z-axis pane\n",
    "\n",
    "# Remove pane borders\n",
    "ax.xaxis._axinfo['grid'].update(color = (1,1,1,0))  # Make x-axis grid lines transparent\n",
    "ax.yaxis._axinfo['grid'].update(color = (1,1,1,0))  # Make y-axis grid lines transparent\n",
    "ax.zaxis._axinfo['grid'].update(color = (1,1,1,0))  # Make z-axis grid lines transparent\n",
    "\n",
    "# Tail length and alpha settings\n",
    "tail_length = 5  # Number of points in the tail\n",
    "alphas = np.linspace(1, 0, tail_length)  # Alpha values from 1 to 0.1\n",
    "\n",
    "# Directory to save frames\n",
    "if not os.path.exists(\"frames\"):\n",
    "    os.makedirs(\"frames\")\n",
    "\n",
    "def update(frame):\n",
    "    # Clear the axis to remove previous points\n",
    "    ax.cla()\n",
    "\n",
    "    # Keep the transparent settings and limits\n",
    "    ax.set_xlim((max(x), min(x)))\n",
    "    ax.set_ylim((min(y), max(y)))\n",
    "    ax.set_zlim((min(z), max(z)))\n",
    "    ax.set_xticks([])  # Remove x ticks\n",
    "    ax.set_yticks([])  # Remove y ticks\n",
    "    ax.set_zticks([])  # Remove z ticks\n",
    "    ax.grid(False)\n",
    "    ax.xaxis.pane.fill = False\n",
    "    ax.yaxis.pane.fill = False\n",
    "    ax.zaxis.pane.fill = False\n",
    "    ax.xaxis._axinfo['grid'].update(color = (1,1,1,0))\n",
    "    ax.yaxis._axinfo['grid'].update(color = (1,1,1,0))\n",
    "    ax.zaxis._axinfo['grid'].update(color = (1,1,1,0))\n",
    "    ax.azim = -120\n",
    "\n",
    "    # Plot the main point\n",
    "    ax.plot([x[frame]], [y[frame]], [z[frame]], 'ko')\n",
    "\n",
    "    # Plot the tail with fading effect\n",
    "    for i in range(1, tail_length + 1):\n",
    "        if frame - i >= 0:  # Ensure we're within bounds\n",
    "            ax.plot([x[frame - i]], [y[frame - i]], [z[frame - i]], \n",
    "                    'ko', alpha=alphas[i - 1])\n",
    "\n",
    "    # Save the current frame as a PNG\n",
    "    zeros = 4 - len(str(frame)) + 1\n",
    "    zeros = \"0\"*zeros\n",
    "    fig.savefig(f\"{folder}/frame_{zeros}{frame}.png\", transparent=True)\n",
    "\n",
    "# Generate each frame\n",
    "for i in range(len(x)):\n",
    "    update(i)\n",
    "#frames[0].save(\"3d_point_movement_transparent.gif\", save_all=True, append_images=frames[1:], duration=100, loop=0, transparency=0)"
   ]
  },
  {
   "cell_type": "code",
   "execution_count": 21,
   "id": "2e155611-dbec-4605-b5c6-373dbb98049c",
   "metadata": {},
   "outputs": [
    {
     "data": {
      "image/png": "[encoded data removed]",
      "text/plain": [
       "<Figure size 640x480 with 1 Axes>"
      ]
     },
     "metadata": {},
     "output_type": "display_data"
    }
   ],
   "source": [
    "\n",
    "ax = cebra.plot_embedding(embedding=run_embedding, embedding_labels=y_run, title=\"\", alpha=1, cmap=cmap)\n",
    "ax.set_xlim((max(x), min(x)))\n",
    "ax.set_ylim((min(y), max(y)))\n",
    "ax.set_zlim((min(z), max(z)))\n",
    "\n",
    "ax.get_zlim()\n",
    "\n",
    "ax.xaxis.pane.fill = False  # Hide x-axis pane\n",
    "ax.yaxis.pane.fill = False  # Hide y-axis pane\n",
    "ax.zaxis.pane.fill = False  # Hide z-axis pane\n",
    "ax.azim = -120\n",
    "\n",
    "\n",
    "ax.grid(False)\n",
    "ax.set_xticks([])  # Remove x ticks\n",
    "ax.set_yticks([])  # Remove y ticks\n",
    "ax.set_zticks([])  # Remove z ticks\n",
    "ax.set_xlabel('')   # Remove x label\n",
    "ax.set_ylabel('')   # Remove y label\n",
    "ax.set_zlabel('')   # Remove z label\n",
    "\n",
    "fig = plt.gcf()\n",
    "size = fig.get_size_inches()*fig.dpi\n",
    "fig.set_size_inches(6.4, 4.8)\n",
    "plt.savefig(f\"{folder}/e.png\")"
   ]
  },
  {
   "cell_type": "code",
   "execution_count": null,
   "id": "644b88a0-d6a7-4793-9ca7-a17e106eb2ee",
   "metadata": {},
   "outputs": [],
   "source": []
  }
 ],
 "metadata": {
  "kernelspec": {
   "display_name": "Python CEBRA_cuda",
   "language": "python",
   "name": "cebra_cuda"
  },
  "language_info": {
   "codemirror_mode": {
    "name": "ipython",
    "version": 3
   },
   "file_extension": ".py",
   "mimetype": "text/x-python",
   "name": "python",
   "nbconvert_exporter": "python",
   "pygments_lexer": "ipython3",
   "version": "3.12.2"
  }
 },
 "nbformat": 4,
 "nbformat_minor": 5
}
