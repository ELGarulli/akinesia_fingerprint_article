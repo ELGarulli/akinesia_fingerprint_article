{
 "cells": [
  {
   "cell_type": "code",
   "execution_count": 1,
   "id": "23b3136d-2eef-40da-af0d-38c749af2895",
   "metadata": {},
   "outputs": [],
   "source": [
    "import os\n",
    "from scipy import stats\n",
    "import tempfile\n",
    "from pathlib import Path\n",
    "import pandas as pd\n",
    "import numpy as np\n",
    "from matplotlib import pyplot as plt\n",
    "import matplotlib\n",
    "from matplotlib.colors import rgb2hex\n",
    "import pickle as pkl\n",
    "from sklearn.model_selection import train_test_split\n",
    "from sklearn.metrics import ConfusionMatrixDisplay, confusion_matrix\n",
    "from sklearn.discriminant_analysis import LinearDiscriminantAnalysis\n",
    "import sys\n",
    "sys.path.append('../../CEBRA_analysis')\n",
    "from dataset_load import data_load\n",
    "from sklearn.model_selection import GroupKFold\n",
    "from sklearn.metrics import r2_score, f1_score\n",
    "from sklearn.neighbors import KNeighborsClassifier\n",
    "from sklearn.inspection import permutation_importance\n",
    "import seaborn as sns"
   ]
  },
  {
   "cell_type": "code",
   "execution_count": 2,
   "id": "98073148-a5c0-4268-b55f-ab3120030a8c",
   "metadata": {},
   "outputs": [],
   "source": [
    "\n",
    "delta_knn = pd.read_csv(\"~/ML_analysis/LDA_neural/mean_delta_knn_f1.csv\", names=[\"feats\", \"delta_score\"])\n",
    "#delta_knn = pd.read_csv(\"~/ML_analysis/LDA_neural/mean_delta_knn_ng_f1.csv\", names=[\"feats\", \"delta_score\"])\n",
    "delta_knn = delta_knn.iloc[1:]"
   ]
  },
  {
   "cell_type": "code",
   "execution_count": 3,
   "id": "1492c60c-946b-498a-9241-ecbb54b5c042",
   "metadata": {},
   "outputs": [
    {
     "data": {
      "text/html": [
       "<div>\n",
       "<style scoped>\n",
       "    .dataframe tbody tr th:only-of-type {\n",
       "        vertical-align: middle;\n",
       "    }\n",
       "\n",
       "    .dataframe tbody tr th {\n",
       "        vertical-align: top;\n",
       "    }\n",
       "\n",
       "    .dataframe thead th {\n",
       "        text-align: right;\n",
       "    }\n",
       "</style>\n",
       "<table border=\"1\" class=\"dataframe\">\n",
       "  <thead>\n",
       "    <tr style=\"text-align: right;\">\n",
       "      <th></th>\n",
       "      <th>feats</th>\n",
       "      <th>delta_score</th>\n",
       "    </tr>\n",
       "  </thead>\n",
       "  <tbody>\n",
       "    <tr>\n",
       "      <th>1</th>\n",
       "      <td>ECOG_LEFT_RawHjorth_Activity</td>\n",
       "      <td>0.014671</td>\n",
       "    </tr>\n",
       "    <tr>\n",
       "      <th>2</th>\n",
       "      <td>ECOG_LEFT_RawHjorth_Mobility</td>\n",
       "      <td>-0.002921</td>\n",
       "    </tr>\n",
       "    <tr>\n",
       "      <th>3</th>\n",
       "      <td>ECOG_LEFT_RawHjorth_Complexity</td>\n",
       "      <td>0.021688</td>\n",
       "    </tr>\n",
       "    <tr>\n",
       "      <th>4</th>\n",
       "      <td>ECOG_RIGHT_RawHjorth_Activity</td>\n",
       "      <td>0.006602</td>\n",
       "    </tr>\n",
       "    <tr>\n",
       "      <th>5</th>\n",
       "      <td>ECOG_RIGHT_RawHjorth_Mobility</td>\n",
       "      <td>0.012739</td>\n",
       "    </tr>\n",
       "    <tr>\n",
       "      <th>...</th>\n",
       "      <td>...</td>\n",
       "      <td>...</td>\n",
       "    </tr>\n",
       "    <tr>\n",
       "      <th>104</th>\n",
       "      <td>icoh_ECOG_RIGHT_to_ECOG_LEFT_mean_fband_high beta</td>\n",
       "      <td>-0.002367</td>\n",
       "    </tr>\n",
       "    <tr>\n",
       "      <th>105</th>\n",
       "      <td>icoh_ECOG_RIGHT_to_ECOG_LEFT_max_fband_high beta</td>\n",
       "      <td>-0.000800</td>\n",
       "    </tr>\n",
       "    <tr>\n",
       "      <th>106</th>\n",
       "      <td>icoh_ECOG_RIGHT_to_ECOG_LEFT_mean_fband_high g...</td>\n",
       "      <td>-0.000777</td>\n",
       "    </tr>\n",
       "    <tr>\n",
       "      <th>107</th>\n",
       "      <td>icoh_ECOG_RIGHT_to_ECOG_LEFT_max_fband_high gamma</td>\n",
       "      <td>0.010126</td>\n",
       "    </tr>\n",
       "    <tr>\n",
       "      <th>108</th>\n",
       "      <td>icoh_ECOG_RIGHT_to_ECOG_LEFT_max_allfbands_hig...</td>\n",
       "      <td>0.002001</td>\n",
       "    </tr>\n",
       "  </tbody>\n",
       "</table>\n",
       "<p>108 rows × 2 columns</p>\n",
       "</div>"
      ],
      "text/plain": [
       "                                                 feats  delta_score\n",
       "1                         ECOG_LEFT_RawHjorth_Activity     0.014671\n",
       "2                         ECOG_LEFT_RawHjorth_Mobility    -0.002921\n",
       "3                       ECOG_LEFT_RawHjorth_Complexity     0.021688\n",
       "4                        ECOG_RIGHT_RawHjorth_Activity     0.006602\n",
       "5                        ECOG_RIGHT_RawHjorth_Mobility     0.012739\n",
       "..                                                 ...          ...\n",
       "104  icoh_ECOG_RIGHT_to_ECOG_LEFT_mean_fband_high beta    -0.002367\n",
       "105   icoh_ECOG_RIGHT_to_ECOG_LEFT_max_fband_high beta    -0.000800\n",
       "106  icoh_ECOG_RIGHT_to_ECOG_LEFT_mean_fband_high g...    -0.000777\n",
       "107  icoh_ECOG_RIGHT_to_ECOG_LEFT_max_fband_high gamma     0.010126\n",
       "108  icoh_ECOG_RIGHT_to_ECOG_LEFT_max_allfbands_hig...     0.002001\n",
       "\n",
       "[108 rows x 2 columns]"
      ]
     },
     "execution_count": 3,
     "metadata": {},
     "output_type": "execute_result"
    }
   ],
   "source": [
    "delta_knn"
   ]
  },
  {
   "cell_type": "code",
   "execution_count": 21,
   "id": "58c65a9f-eacf-4a5e-bba0-0a678d42d374",
   "metadata": {},
   "outputs": [
    {
     "data": {
      "text/plain": [
       "array(['ECOG_RIGHT_bursts_high gamma_amplitude_mean',\n",
       "       'ECOG_RIGHT_RawHjorth_Complexity',\n",
       "       'ECOG_LEFT_RawHjorth_Complexity', 'ECOG_LEFT_fft_high beta',\n",
       "       'ECOG_LEFT_RawHjorth_Activity',\n",
       "       'ECOG_LEFT_Sharpwave_Max_prominence_range_5_30',\n",
       "       'ECOG_RIGHT_RawHjorth_Mobility',\n",
       "       'ECOG_LEFT_bursts_high beta_amplitude_max',\n",
       "       'ECOG_LEFT_bursts_high beta_amplitude_mean',\n",
       "       'icoh_ECOG_RIGHT_to_ECOG_LEFT_max_fband_high gamma',\n",
       "       'ECOG_RIGHT_bursts_low gamma_amplitude_mean',\n",
       "       'ECOG_RIGHT_fft_high gamma',\n",
       "       'ECOG_RIGHT_bandpass_activity_high gamma',\n",
       "       'ECOG_RIGHT_bursts_high gamma_amplitude_max',\n",
       "       'coh_ECOG_RIGHT_to_ECOG_LEFT_max_fband_high gamma',\n",
       "       'ECOG_RIGHT_fft_high beta',\n",
       "       'ECOG_RIGHT_Sharpwave_Max_prominence_range_5_80',\n",
       "       'ECOG_LEFT_stft_high beta', 'ECOG_LEFT_fft_high gamma',\n",
       "       'ECOG_RIGHT_Sharpwave_Mean_interval_range_5_80',\n",
       "       'ECOG_RIGHT_RawHjorth_Activity',\n",
       "       'ECOG_LEFT_bursts_low beta_amplitude_max',\n",
       "       'ECOG_LEFT_fft_low gamma', 'ECOG_LEFT_fft_HFA',\n",
       "       'ECOG_RIGHT_bandpass_activity_low gamma',\n",
       "       'ECOG_LEFT_bursts_high gamma_amplitude_max',\n",
       "       'ECOG_LEFT_bursts_high beta_duration_mean',\n",
       "       'ECOG_LEFT_bursts_high beta_burst_rate_per_s',\n",
       "       'ECOG_RIGHT_bandpass_activity_high beta',\n",
       "       'ECOG_LEFT_stft_high gamma', 'ECOG_RIGHT_stft_high beta',\n",
       "       'coh_ECOG_RIGHT_to_ECOG_LEFT_mean_fband_high gamma',\n",
       "       'ECOG_RIGHT_Sharpwave_Max_sharpness_range_5_80',\n",
       "       'ECOG_LEFT_bandpass_activity_low beta', 'ECOG_RIGHT_stft_low beta',\n",
       "       'ECOG_LEFT_bursts_high beta_duration_max', 'ECOG_LEFT_raw',\n",
       "       'ECOG_LEFT_bursts_low gamma_amplitude_mean',\n",
       "       'ECOG_RIGHT_fft_low beta',\n",
       "       'ECOG_RIGHT_bursts_low beta_amplitude_max',\n",
       "       'ECOG_LEFT_fooof_a_exp',\n",
       "       'coh_ECOG_RIGHT_to_ECOG_LEFT_max_fband_high beta',\n",
       "       'ECOG_LEFT_stft_HFA', 'ECOG_LEFT_bursts_high gamma_amplitude_mean',\n",
       "       'coh_ECOG_RIGHT_to_ECOG_LEFT_max_allfbands_high gamma',\n",
       "       'ECOG_RIGHT_fft_low gamma',\n",
       "       'icoh_ECOG_RIGHT_to_ECOG_LEFT_max_fband_low beta',\n",
       "       'ECOG_RIGHT_bursts_high beta_amplitude_max',\n",
       "       'icoh_ECOG_RIGHT_to_ECOG_LEFT_mean_fband_low beta',\n",
       "       'ECOG_RIGHT_Sharpwave_Max_prominence_range_5_30',\n",
       "       'ECOG_LEFT_bursts_low gamma_duration_mean',\n",
       "       'ECOG_LEFT_bursts_low gamma_amplitude_max',\n",
       "       'ECOG_LEFT_bandpass_activity_high gamma',\n",
       "       'ECOG_LEFT_bursts_high gamma_duration_max',\n",
       "       'ECOG_LEFT_bursts_high gamma_burst_rate_per_s',\n",
       "       'ECOG_LEFT_Sharpwave_Max_sharpness_range_5_30',\n",
       "       'ECOG_LEFT_bursts_low gamma_duration_max',\n",
       "       'ECOG_LEFT_bursts_low beta_burst_rate_per_s',\n",
       "       'ECOG_LEFT_stft_low gamma',\n",
       "       'ECOG_LEFT_bursts_low gamma_burst_rate_per_s',\n",
       "       'icoh_ECOG_RIGHT_to_ECOG_LEFT_max_allfbands_high gamma',\n",
       "       'ECOG_RIGHT_bursts_high beta_duration_max',\n",
       "       'ECOG_RIGHT_bursts_low gamma_duration_mean',\n",
       "       'ECOG_RIGHT_bursts_low gamma_burst_rate_per_s',\n",
       "       'ECOG_RIGHT_Sharpwave_Max_sharpness_range_5_30',\n",
       "       'ECOG_RIGHT_bursts_low beta_amplitude_mean',\n",
       "       'coh_ECOG_RIGHT_to_ECOG_LEFT_mean_fband_high beta',\n",
       "       'ECOG_LEFT_bandpass_activity_HFA', 'ECOG_LEFT_fft_low beta',\n",
       "       'ECOG_RIGHT_stft_high gamma',\n",
       "       'coh_ECOG_RIGHT_to_ECOG_LEFT_max_fband_low beta',\n",
       "       'ECOG_RIGHT_bursts_low beta_duration_max',\n",
       "       'ECOG_LEFT_bursts_low beta_duration_mean',\n",
       "       'ECOG_RIGHT_bursts_high beta_amplitude_mean',\n",
       "       'ECOG_LEFT_Sharpwave_Max_sharpness_range_5_80',\n",
       "       'ECOG_LEFT_Sharpwave_Max_prominence_range_5_80',\n",
       "       'ECOG_LEFT_fooof_a_offset',\n",
       "       'ECOG_LEFT_bursts_low beta_duration_max',\n",
       "       'ECOG_RIGHT_bandpass_activity_low beta',\n",
       "       'coh_ECOG_RIGHT_to_ECOG_LEFT_mean_fband_low beta',\n",
       "       'ECOG_LEFT_bursts_high gamma_duration_mean',\n",
       "       'ECOG_RIGHT_bursts_high beta_burst_rate_per_s',\n",
       "       'ECOG_LEFT_bandpass_activity_high beta',\n",
       "       'ECOG_RIGHT_bursts_high beta_duration_mean',\n",
       "       'ECOG_RIGHT_bursts_high gamma_duration_max',\n",
       "       'ECOG_RIGHT_bursts_low gamma_duration_max',\n",
       "       'ECOG_RIGHT_bursts_high gamma_duration_mean', 'ECOG_RIGHT_raw',\n",
       "       'ECOG_RIGHT_bursts_low beta_duration_mean',\n",
       "       'ECOG_LEFT_bursts_low beta_amplitude_mean',\n",
       "       'ECOG_LEFT_bandpass_activity_low gamma',\n",
       "       'ECOG_LEFT_Sharpwave_Mean_interval_range_5_30',\n",
       "       'icoh_ECOG_RIGHT_to_ECOG_LEFT_mean_fband_high gamma',\n",
       "       'ECOG_RIGHT_bursts_high gamma_burst_rate_per_s',\n",
       "       'icoh_ECOG_RIGHT_to_ECOG_LEFT_max_fband_high beta',\n",
       "       'ECOG_RIGHT_Sharpwave_Mean_interval_range_5_30',\n",
       "       'ECOG_RIGHT_bursts_low beta_burst_rate_per_s',\n",
       "       'ECOG_LEFT_stft_low beta', 'ECOG_RIGHT_fooof_a_exp',\n",
       "       'ECOG_LEFT_Sharpwave_Mean_interval_range_5_80',\n",
       "       'ECOG_RIGHT_fooof_a_offset',\n",
       "       'icoh_ECOG_RIGHT_to_ECOG_LEFT_mean_fband_high beta',\n",
       "       'ECOG_RIGHT_fft_HFA', 'ECOG_RIGHT_stft_low gamma',\n",
       "       'ECOG_LEFT_RawHjorth_Mobility', 'ECOG_RIGHT_bandpass_activity_HFA',\n",
       "       'ECOG_RIGHT_stft_HFA', 'ECOG_RIGHT_bursts_low gamma_amplitude_max'],\n",
       "      dtype=object)"
      ]
     },
     "execution_count": 21,
     "metadata": {},
     "output_type": "execute_result"
    }
   ],
   "source": [
    "ord_idxs = np.argsort(delta_knn[\"delta_score\"])[::-1]\n",
    "ordered_feats = delta_knn[\"feats\"].values[ord_idxs]\n",
    "ordered_feats"
   ]
  },
  {
   "cell_type": "code",
   "execution_count": 17,
   "id": "b45fffae-1b25-43a7-b4b7-e2f7b81778d7",
   "metadata": {},
   "outputs": [
    {
     "data": {
      "text/plain": [
       "108    90\n",
       "107     5\n",
       "106     2\n",
       "105    29\n",
       "104     0\n",
       "       ..\n",
       "5      25\n",
       "4       1\n",
       "3      17\n",
       "2      27\n",
       "1      87\n",
       "Name: delta_score, Length: 108, dtype: int64"
      ]
     },
     "execution_count": 17,
     "metadata": {},
     "output_type": "execute_result"
    }
   ],
   "source": [
    "ord_idxs"
   ]
  },
  {
   "cell_type": "code",
   "execution_count": 4,
   "id": "2d31cc5d-7e2f-4242-b8c1-8d4ef4c052a0",
   "metadata": {},
   "outputs": [],
   "source": [
    "def split_quantify_lda(x, y, animals_id, run_id, idxs):\n",
    "    groups = [a+i for a, i in zip(animals_id, run_id)]\n",
    "    \n",
    "    rng = np.random.default_rng(seed=42) \n",
    "    unique_groups = np.unique(groups)      \n",
    "    rng.shuffle(unique_groups)   \n",
    "    \n",
    "    \n",
    "    gkf = GroupKFold(n_splits=11)\n",
    "    gkf.get_n_splits(groups=groups)\n",
    "    \n",
    "    X_unique = np.arange(len(unique_groups))\n",
    "    \n",
    "    perms = []\n",
    "    \n",
    "    for fold_idx, (train_idx, test_idx) in enumerate(gkf.split(X_unique, groups=unique_groups)):\n",
    "    \n",
    "        train_groups = unique_groups[train_idx]\n",
    "        test_groups  = unique_groups[test_idx]\n",
    "        \n",
    "        train_mask = np.isin(groups, train_groups)\n",
    "        test_mask  = np.isin(groups, test_groups)\n",
    "        \n",
    "        X_train, y_train = x.iloc[train_mask, idxs], y[train_mask]\n",
    "        X_test,  y_test  = x.iloc[test_mask, idxs],  y[test_mask]\n",
    "    \n",
    "        clf = LinearDiscriminantAnalysis(store_covariance=True, n_components=2)\n",
    "        clf.fit(X_train, y_train)\n",
    "        perm = permutation_importance(clf, X_test, y_test, n_repeats=3, random_state=0)\n",
    "        perms.append(perm)\n",
    "    return perms"
   ]
  },
  {
   "cell_type": "code",
   "execution_count": 5,
   "id": "0810fe4d-3d12-44c5-a473-ca0bc7fc3bcc",
   "metadata": {},
   "outputs": [
    {
     "name": "stdout",
     "output_type": "stream",
     "text": [
      "No file found for 230425 NWE00161 02\n",
      "No file found for 230425 NWE00161 08\n",
      "No file found for 230425 NWE00160 04\n",
      "No file found for 230425 NWE00160 03\n",
      "No file found for 230425 NWE00164 21\n"
     ]
    }
   ],
   "source": [
    "skipdates = [\"220818\", \"220819\"]\n",
    "input_folder = \"/sc-projects/sc-proj-cc15-ag-wenger-retune/data_kinematic_states_neural/\"\n",
    "VICON_FS = 200\n",
    "variables_to_drop = [\"ANIMAL_ID\", \"CONDITION\", \"RUN\", \"DATE\", \"EVENT\", \"ECOG_LEFT_fooof_a_knee\", \"ECOG_RIGHT_fooof_a_knee\"]\n",
    "data_dict = data_load(input_folder, variables_to_drop, skipdates)\n",
    "x = data_dict[\"X_pd\"]\n",
    "y = data_dict[\"y_pd\"]\n",
    "animals_id = data_dict[\"animals_id_pd\"]\n",
    "run_id = data_dict[\"run_id_pd\"]"
   ]
  },
  {
   "cell_type": "code",
   "execution_count": 6,
   "id": "05d81742-54cc-4e6f-9d38-8afb9fe62802",
   "metadata": {},
   "outputs": [],
   "source": [
    "s = slice(36, None)\n",
    "perms = split_quantify_lda(x, y, animals_id, run_id, idxs=s)"
   ]
  },
  {
   "cell_type": "code",
   "execution_count": 7,
   "id": "2871b78c-256c-41f4-8df6-876b196cb5ec",
   "metadata": {},
   "outputs": [],
   "source": [
    "perms_importance = pd.DataFrame(index=range(0,11), columns=x.iloc[:, s].columns)\n",
    "\n",
    "for j, r in enumerate(perms):\n",
    "    for i in r.importances_mean.argsort()[::-1]:\n",
    "        perms_importance.loc[j, x.iloc[:, s].columns[i]] = r.importances_mean[i]"
   ]
  },
  {
   "cell_type": "code",
   "execution_count": 8,
   "id": "86239a33-077f-4be4-b7d9-9c93f9e39010",
   "metadata": {},
   "outputs": [],
   "source": [
    "perms_lda = perms_importance.mean(axis=0)"
   ]
  },
  {
   "cell_type": "code",
   "execution_count": 9,
   "id": "7d8d8c9c-91cc-4673-8a57-f2d436bb0031",
   "metadata": {},
   "outputs": [],
   "source": [
    "perms_lda = perms_lda.to_frame(name=\"perms_lda\")"
   ]
  },
  {
   "cell_type": "code",
   "execution_count": 10,
   "id": "cf18a137-81eb-4a53-95d5-39d31154a6ac",
   "metadata": {},
   "outputs": [],
   "source": [
    "scores = pd.concat([delta_knn.set_index(\"feats\"), perms_lda], axis=1)"
   ]
  },
  {
   "cell_type": "code",
   "execution_count": 11,
   "id": "94a36d8d-b97d-4269-be3c-36cdab686f0b",
   "metadata": {},
   "outputs": [
    {
     "data": {
      "text/html": [
       "<div>\n",
       "<style scoped>\n",
       "    .dataframe tbody tr th:only-of-type {\n",
       "        vertical-align: middle;\n",
       "    }\n",
       "\n",
       "    .dataframe tbody tr th {\n",
       "        vertical-align: top;\n",
       "    }\n",
       "\n",
       "    .dataframe thead th {\n",
       "        text-align: right;\n",
       "    }\n",
       "</style>\n",
       "<table border=\"1\" class=\"dataframe\">\n",
       "  <thead>\n",
       "    <tr style=\"text-align: right;\">\n",
       "      <th></th>\n",
       "      <th>delta_score</th>\n",
       "      <th>perms_lda</th>\n",
       "    </tr>\n",
       "  </thead>\n",
       "  <tbody>\n",
       "    <tr>\n",
       "      <th>ECOG_LEFT_RawHjorth_Activity</th>\n",
       "      <td>0.014671</td>\n",
       "      <td>0.011698</td>\n",
       "    </tr>\n",
       "    <tr>\n",
       "      <th>ECOG_LEFT_RawHjorth_Mobility</th>\n",
       "      <td>-0.002921</td>\n",
       "      <td>0.033915</td>\n",
       "    </tr>\n",
       "    <tr>\n",
       "      <th>ECOG_LEFT_RawHjorth_Complexity</th>\n",
       "      <td>0.021688</td>\n",
       "      <td>0.072634</td>\n",
       "    </tr>\n",
       "    <tr>\n",
       "      <th>ECOG_RIGHT_RawHjorth_Activity</th>\n",
       "      <td>0.006602</td>\n",
       "      <td>-0.000997</td>\n",
       "    </tr>\n",
       "    <tr>\n",
       "      <th>ECOG_RIGHT_RawHjorth_Mobility</th>\n",
       "      <td>0.012739</td>\n",
       "      <td>0.028385</td>\n",
       "    </tr>\n",
       "    <tr>\n",
       "      <th>...</th>\n",
       "      <td>...</td>\n",
       "      <td>...</td>\n",
       "    </tr>\n",
       "    <tr>\n",
       "      <th>icoh_ECOG_RIGHT_to_ECOG_LEFT_mean_fband_high beta</th>\n",
       "      <td>-0.002367</td>\n",
       "      <td>-0.000048</td>\n",
       "    </tr>\n",
       "    <tr>\n",
       "      <th>icoh_ECOG_RIGHT_to_ECOG_LEFT_max_fband_high beta</th>\n",
       "      <td>-0.000800</td>\n",
       "      <td>0.000301</td>\n",
       "    </tr>\n",
       "    <tr>\n",
       "      <th>icoh_ECOG_RIGHT_to_ECOG_LEFT_mean_fband_high gamma</th>\n",
       "      <td>-0.000777</td>\n",
       "      <td>0.000428</td>\n",
       "    </tr>\n",
       "    <tr>\n",
       "      <th>icoh_ECOG_RIGHT_to_ECOG_LEFT_max_fband_high gamma</th>\n",
       "      <td>0.010126</td>\n",
       "      <td>0.004651</td>\n",
       "    </tr>\n",
       "    <tr>\n",
       "      <th>icoh_ECOG_RIGHT_to_ECOG_LEFT_max_allfbands_high gamma</th>\n",
       "      <td>0.002001</td>\n",
       "      <td>-0.000209</td>\n",
       "    </tr>\n",
       "  </tbody>\n",
       "</table>\n",
       "<p>108 rows × 2 columns</p>\n",
       "</div>"
      ],
      "text/plain": [
       "                                                    delta_score perms_lda\n",
       "ECOG_LEFT_RawHjorth_Activity                           0.014671  0.011698\n",
       "ECOG_LEFT_RawHjorth_Mobility                          -0.002921  0.033915\n",
       "ECOG_LEFT_RawHjorth_Complexity                         0.021688  0.072634\n",
       "ECOG_RIGHT_RawHjorth_Activity                          0.006602 -0.000997\n",
       "ECOG_RIGHT_RawHjorth_Mobility                          0.012739  0.028385\n",
       "...                                                         ...       ...\n",
       "icoh_ECOG_RIGHT_to_ECOG_LEFT_mean_fband_high beta     -0.002367 -0.000048\n",
       "icoh_ECOG_RIGHT_to_ECOG_LEFT_max_fband_high beta      -0.000800  0.000301\n",
       "icoh_ECOG_RIGHT_to_ECOG_LEFT_mean_fband_high gamma    -0.000777  0.000428\n",
       "icoh_ECOG_RIGHT_to_ECOG_LEFT_max_fband_high gamma      0.010126  0.004651\n",
       "icoh_ECOG_RIGHT_to_ECOG_LEFT_max_allfbands_high...     0.002001 -0.000209\n",
       "\n",
       "[108 rows x 2 columns]"
      ]
     },
     "execution_count": 11,
     "metadata": {},
     "output_type": "execute_result"
    }
   ],
   "source": [
    "scores"
   ]
  },
  {
   "cell_type": "code",
   "execution_count": 41,
   "id": "a123780c-edc2-494c-bdbd-92515f09b078",
   "metadata": {},
   "outputs": [
    {
     "name": "stdout",
     "output_type": "stream",
     "text": [
      "ECOG_LEFT_RawHjorth_Complexity\n",
      "ECOG_RIGHT_RawHjorth_Mobility\n",
      "ECOG_LEFT_fft_high beta\n",
      "ECOG_RIGHT_fft_high gamma\n"
     ]
    },
    {
     "name": "stderr",
     "output_type": "stream",
     "text": [
      "/tmp/ipykernel_3237991/2696880891.py:8: FutureWarning: Series.__getitem__ treating keys as positions is deprecated. In a future version, integer keys will always be treated as labels (consistent with DataFrame behavior). To access a value by position, use `ser.iloc[pos]`\n",
      "  x = scores[\"delta_score\"][i]\n",
      "/tmp/ipykernel_3237991/2696880891.py:9: FutureWarning: Series.__getitem__ treating keys as positions is deprecated. In a future version, integer keys will always be treated as labels (consistent with DataFrame behavior). To access a value by position, use `ser.iloc[pos]`\n",
      "  y = scores[\"perms_lda\"][i]\n"
     ]
    },
    {
     "data": {
      "image/png": "[encoded data removed]",
      "text/plain": [
       "<Figure size 400x400 with 1 Axes>"
      ]
     },
     "metadata": {},
     "output_type": "display_data"
    }
   ],
   "source": [
    "fig, ax = plt.subplots(figsize=(4,4))\n",
    "x_th = 0.009\n",
    "y_th = 0.016\n",
    "\n",
    "ax.scatter(scores[\"delta_score\"], scores[\"perms_lda\"], color=\"#333c2a\", facecolor=\"lightgray\")#facecolor=\"#a4b494\")\n",
    "\n",
    "for i, label in enumerate(scores.index):\n",
    "    x = scores[\"delta_score\"][i]\n",
    "    y = scores[\"perms_lda\"][i]\n",
    "    if x>x_th and y>y_th:\n",
    "        print(label)\n",
    "        #ax.annotate(label, (scores[\"delta_score\"][i], scores[\"perms_lda\"][i]), xytext=(5, 5), textcoords='offset points', fontsize=10)\n",
    "        ax.scatter(x, y, color=\"#241920\", facecolor=\"#543b4b\")\n",
    "ax.set_xticks([0, 0.01, 0.02], labels=[])\n",
    "ax.set_yticks([0, 0.03, 0.06], labels=[])\n",
    "ax.spines[[\"top\", \"right\"]].set_visible(False)\n",
    "ax.spines[[\"left\", \"bottom\"]].set_linewidth(1.5)\n",
    "ax.vlines(x_th, ax.get_ylim()[0], ax.get_ylim()[1], color=\"k\", alpha=0.5)\n",
    "ax.hlines(y_th, ax.get_xlim()[0], ax.get_xlim()[1], color=\"k\", alpha=0.5)\n",
    "ax.tick_params(width=1.5)\n",
    "plt.savefig(\"lda_v_cebra_offset200.svg\", transparent=True)"
   ]
  },
  {
   "cell_type": "code",
   "execution_count": 14,
   "id": "82f6256c-b52f-430b-9eef-2ef9f263d098",
   "metadata": {},
   "outputs": [],
   "source": [
    "cols = {\"ECOG_LEFT_RawHjorth_Complexity\":\"#AC9ED1\",\n",
    "\"ECOG_RIGHT_RawHjorth_Mobility\":\"#519872\",\n",
    "\"ECOG_LEFT_stft_high beta\":\"#70163C\", \n",
    "\"ECOG_RIGHT_fft_high gamma\": \"#15467A\"\n",
    "       }"
   ]
  },
  {
   "cell_type": "code",
   "execution_count": null,
   "id": "b0654b57-eef5-447f-9122-783a44dbf69a",
   "metadata": {},
   "outputs": [],
   "source": []
  }
 ],
 "metadata": {
  "kernelspec": {
   "display_name": "Python (myPyEnv)",
   "language": "python",
   "name": "mypyenv"
  },
  "language_info": {
   "codemirror_mode": {
    "name": "ipython",
    "version": 3
   },
   "file_extension": ".py",
   "mimetype": "text/x-python",
   "name": "python",
   "nbconvert_exporter": "python",
   "pygments_lexer": "ipython3",
   "version": "3.12.2"
  }
 },
 "nbformat": 4,
 "nbformat_minor": 5
}
